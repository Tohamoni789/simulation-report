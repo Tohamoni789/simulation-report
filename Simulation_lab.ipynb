{
  "nbformat": 4,
  "nbformat_minor": 0,
  "metadata": {
    "colab": {
      "name": "Simulation_lab.ipynb",
      "provenance": []
    },
    "kernelspec": {
      "name": "python3",
      "display_name": "Python 3"
    },
    "language_info": {
      "name": "python"
    }
  },
  "cells": [
    {
      "cell_type": "code",
      "metadata": {
        "id": "r_6V9i7Fmep_"
      },
      "source": [
        "#For interarrival time\n",
        "from scipy.stats import *\n",
        "inter_a_time = poisson.rvs(mu=5.6, size=20)\n",
        "from operator import add"
      ],
      "execution_count": null,
      "outputs": []
    },
    {
      "cell_type": "code",
      "metadata": {
        "colab": {
          "base_uri": "https://localhost:8080/"
        },
        "id": "AqCJIwYnmiM0",
        "outputId": "5efee372-7ae6-4e8f-b607-e2d49e2df692"
      },
      "source": [
        "inter_a_time[0]=0\n",
        "print(inter_a_time)"
      ],
      "execution_count": null,
      "outputs": [
        {
          "output_type": "stream",
          "text": [
            "[ 0  8  2  5  6 10  4  4  4  6  5  4  7  6  7  7  9  8  7  4]\n"
          ],
          "name": "stdout"
        }
      ]
    },
    {
      "cell_type": "code",
      "metadata": {
        "id": "KWtykUK6mj1G"
      },
      "source": [
        "#For service time\n",
        "data_expon = expon.rvs(scale=0.5,loc=5,size=20)"
      ],
      "execution_count": null,
      "outputs": []
    },
    {
      "cell_type": "code",
      "metadata": {
        "id": "SJqcqmrOmp64"
      },
      "source": [
        "service_time=[int(data_expon) for data_expon in data_expon]"
      ],
      "execution_count": null,
      "outputs": []
    },
    {
      "cell_type": "code",
      "metadata": {
        "colab": {
          "base_uri": "https://localhost:8080/"
        },
        "id": "mvS73YMnNHtF",
        "outputId": "7ca6960c-9db6-4e41-fa47-fda94970705f"
      },
      "source": [
        "print(service_time)"
      ],
      "execution_count": null,
      "outputs": [
        {
          "output_type": "stream",
          "text": [
            "[5, 5, 5, 5, 6, 5, 5, 5, 5, 5, 6, 7, 5, 5, 5, 5, 5, 5, 5, 5]\n"
          ],
          "name": "stdout"
        }
      ]
    },
    {
      "cell_type": "code",
      "metadata": {
        "colab": {
          "base_uri": "https://localhost:8080/"
        },
        "id": "a2QfXxh1uPQy",
        "outputId": "806cbda9-3767-45b8-964b-1a72f8d0015c"
      },
      "source": [
        "a_time=[]\n",
        "j=0\n",
        "for i in range(0,len(inter_a_time)):\n",
        "    j+=inter_a_time[i]\n",
        "    a_time.append(j)\n",
        "     \n",
        "print(a_time)"
      ],
      "execution_count": null,
      "outputs": [
        {
          "output_type": "stream",
          "text": [
            "[0, 8, 10, 15, 21, 31, 35, 39, 43, 49, 54, 58, 65, 71, 78, 85, 94, 102, 109, 113]\n"
          ],
          "name": "stdout"
        }
      ]
    },
    {
      "cell_type": "code",
      "metadata": {
        "id": "rOMujsWRz7gO"
      },
      "source": [
        "time_s_end = []\n",
        "for i in range(0, len(a_time)):\n",
        "    time_s_end.append(a_time[i] + service_time[i])"
      ],
      "execution_count": null,
      "outputs": []
    },
    {
      "cell_type": "code",
      "metadata": {
        "colab": {
          "base_uri": "https://localhost:8080/"
        },
        "id": "VYBhduvi0Ina",
        "outputId": "da8d3f5b-f03a-4ccc-a70c-c461027f32c3"
      },
      "source": [
        "print (\"Resultant list is : \" + str(time_s_end))"
      ],
      "execution_count": null,
      "outputs": [
        {
          "output_type": "stream",
          "text": [
            "Resultant list is : [5, 13, 15, 20, 27, 36, 40, 44, 48, 54, 60, 65, 70, 76, 83, 90, 99, 107, 114, 118]\n"
          ],
          "name": "stdout"
        }
      ]
    },
    {
      "cell_type": "code",
      "metadata": {
        "id": "cFbsgHDT3EsR"
      },
      "source": [
        "\n",
        "service_time_begin = []\n",
        "for i in range(0,19):\n",
        "  if a_time[i]> time_s_end[i-1]:\n",
        "    service= a_time[i]\n",
        "  else: service= time_s_end[i-1]\n",
        "  service_time_begin.append(service)\n",
        "             \n",
        "\n"
      ],
      "execution_count": null,
      "outputs": []
    },
    {
      "cell_type": "code",
      "metadata": {
        "colab": {
          "base_uri": "https://localhost:8080/"
        },
        "id": "rlpteAi78-G-",
        "outputId": "0b2537cb-e5d6-4c97-8e24-639661045a92"
      },
      "source": [
        "service_time_begin[0]=0\n",
        "print( service_time_begin)"
      ],
      "execution_count": null,
      "outputs": [
        {
          "output_type": "stream",
          "text": [
            "[0, 8, 13, 15, 21, 31, 36, 40, 44, 49, 54, 60, 65, 71, 78, 85, 94, 102, 109]\n"
          ],
          "name": "stdout"
        }
      ]
    },
    {
      "cell_type": "code",
      "metadata": {
        "colab": {
          "base_uri": "https://localhost:8080/"
        },
        "id": "8rCxx5oGKb_K",
        "outputId": "e4e7f89b-292f-4492-d146-3612ee445113"
      },
      "source": [
        "A=[int(service_time_begin) for service_time_begin in service_time_begin]\n",
        "print(type(A[0]))\n",
        "print(A)"
      ],
      "execution_count": null,
      "outputs": [
        {
          "output_type": "stream",
          "text": [
            "<class 'int'>\n",
            "[6, 9, 12, 17, 24, 29, 37, 43, 49, 60, 65, 69, 76, 84, 90, 96, 102, 103]\n"
          ],
          "name": "stdout"
        }
      ]
    },
    {
      "cell_type": "code",
      "metadata": {
        "id": "K5-Ilii3_IOp"
      },
      "source": [
        "waiting_time=[0]\n",
        "for i in range(0, len(A)):\n",
        "  wt= A[i]-a_time[i]\n",
        "  waiting_time.append(wt)"
      ],
      "execution_count": null,
      "outputs": []
    },
    {
      "cell_type": "code",
      "metadata": {
        "colab": {
          "base_uri": "https://localhost:8080/"
        },
        "id": "aAN5SmBWJjfS",
        "outputId": "0da9d113-da92-4c3e-8b17-bbe1ff24ba12"
      },
      "source": [
        "print(waiting_time)"
      ],
      "execution_count": null,
      "outputs": [
        {
          "output_type": "stream",
          "text": [
            "[0, 5, 5, 6, 5, 7, 5, 8, 6, 6, 12, 5, 7, 7, 8, 6, 8, 6, 5]\n"
          ],
          "name": "stdout"
        }
      ]
    },
    {
      "cell_type": "code",
      "metadata": {
        "id": "vciXI_WJMfNj"
      },
      "source": [
        "spend_in_system=[]\n",
        "for i in range(0,len(waiting_time)):\n",
        "  ss=service_time[i]+waiting_time[i]\n",
        "  spend_in_system.append(ss)"
      ],
      "execution_count": null,
      "outputs": []
    },
    {
      "cell_type": "code",
      "metadata": {
        "colab": {
          "base_uri": "https://localhost:8080/"
        },
        "id": "vpcJ0lX-Ny61",
        "outputId": "674f54fc-7755-4e08-eb24-18513e6cbf42"
      },
      "source": [
        "print(spend_in_system)"
      ],
      "execution_count": null,
      "outputs": [
        {
          "output_type": "stream",
          "text": [
            "[5, 10, 10, 11, 11, 12, 10, 13, 11, 11, 18, 12, 12, 12, 13, 11, 13, 11, 10]\n"
          ],
          "name": "stdout"
        }
      ]
    },
    {
      "cell_type": "code",
      "metadata": {
        "id": "Pl0bK6qYN4FG"
      },
      "source": [
        "idle_time=[]\n",
        "for i in range(0,18):\n",
        "  if a_time[i+1]> time_s_end[i]:\n",
        "    it = a_time[i+1]- time_s_end[i]\n",
        "  else: it= 0\n",
        "  idle_time.append(it)\n",
        "             \n"
      ],
      "execution_count": null,
      "outputs": []
    },
    {
      "cell_type": "code",
      "metadata": {
        "colab": {
          "base_uri": "https://localhost:8080/"
        },
        "id": "ZErnRj99UhTB",
        "outputId": "82bd6992-512c-4aaa-bfc3-2387d84cf350"
      },
      "source": [
        "print(idle_time)"
      ],
      "execution_count": null,
      "outputs": [
        {
          "output_type": "stream",
          "text": [
            "[0, 0, 1, 0, 1, 0, 3, 1, 0, 7, 0, 0, 2, 3, 0, 3, 0, 0]\n"
          ],
          "name": "stdout"
        }
      ]
    }
  ]
}